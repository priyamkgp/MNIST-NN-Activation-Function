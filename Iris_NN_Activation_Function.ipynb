{
  "nbformat": 4,
  "nbformat_minor": 0,
  "metadata": {
    "colab": {
      "name": "Iris NN Activation Function.ipynb",
      "provenance": [],
      "collapsed_sections": []
    },
    "kernelspec": {
      "name": "python3",
      "display_name": "Python 3"
    },
    "language_info": {
      "name": "python"
    }
  },
  "cells": [
    {
      "cell_type": "code",
      "metadata": {
        "id": "6NvnI9p2cOKp"
      },
      "source": [
        "import numpy as np\n",
        "import pandas as pd\n",
        "from matplotlib import pyplot as plt\n",
        "\n",
        "data = pd.read_csv('Iris.csv') "
      ],
      "execution_count": 1,
      "outputs": []
    },
    {
      "cell_type": "code",
      "metadata": {
        "colab": {
          "base_uri": "https://localhost:8080/",
          "height": 514
        },
        "id": "i3EEiagucdQN",
        "outputId": "e67755a1-5813-48e8-daa1-a97c322fde84"
      },
      "source": [
        "data.head(15)"
      ],
      "execution_count": 4,
      "outputs": [
        {
          "output_type": "execute_result",
          "data": {
            "text/html": [
              "<div>\n",
              "<style scoped>\n",
              "    .dataframe tbody tr th:only-of-type {\n",
              "        vertical-align: middle;\n",
              "    }\n",
              "\n",
              "    .dataframe tbody tr th {\n",
              "        vertical-align: top;\n",
              "    }\n",
              "\n",
              "    .dataframe thead th {\n",
              "        text-align: right;\n",
              "    }\n",
              "</style>\n",
              "<table border=\"1\" class=\"dataframe\">\n",
              "  <thead>\n",
              "    <tr style=\"text-align: right;\">\n",
              "      <th></th>\n",
              "      <th>Id</th>\n",
              "      <th>SepalLengthCm</th>\n",
              "      <th>SepalWidthCm</th>\n",
              "      <th>PetalLengthCm</th>\n",
              "      <th>PetalWidthCm</th>\n",
              "      <th>Species</th>\n",
              "    </tr>\n",
              "  </thead>\n",
              "  <tbody>\n",
              "    <tr>\n",
              "      <th>0</th>\n",
              "      <td>1</td>\n",
              "      <td>5.1</td>\n",
              "      <td>3.5</td>\n",
              "      <td>1.4</td>\n",
              "      <td>0.2</td>\n",
              "      <td>Iris-setosa</td>\n",
              "    </tr>\n",
              "    <tr>\n",
              "      <th>1</th>\n",
              "      <td>2</td>\n",
              "      <td>4.9</td>\n",
              "      <td>3.0</td>\n",
              "      <td>1.4</td>\n",
              "      <td>0.2</td>\n",
              "      <td>Iris-setosa</td>\n",
              "    </tr>\n",
              "    <tr>\n",
              "      <th>2</th>\n",
              "      <td>3</td>\n",
              "      <td>4.7</td>\n",
              "      <td>3.2</td>\n",
              "      <td>1.3</td>\n",
              "      <td>0.2</td>\n",
              "      <td>Iris-setosa</td>\n",
              "    </tr>\n",
              "    <tr>\n",
              "      <th>3</th>\n",
              "      <td>4</td>\n",
              "      <td>4.6</td>\n",
              "      <td>3.1</td>\n",
              "      <td>1.5</td>\n",
              "      <td>0.2</td>\n",
              "      <td>Iris-setosa</td>\n",
              "    </tr>\n",
              "    <tr>\n",
              "      <th>4</th>\n",
              "      <td>5</td>\n",
              "      <td>5.0</td>\n",
              "      <td>3.6</td>\n",
              "      <td>1.4</td>\n",
              "      <td>0.2</td>\n",
              "      <td>Iris-setosa</td>\n",
              "    </tr>\n",
              "    <tr>\n",
              "      <th>5</th>\n",
              "      <td>6</td>\n",
              "      <td>5.4</td>\n",
              "      <td>3.9</td>\n",
              "      <td>1.7</td>\n",
              "      <td>0.4</td>\n",
              "      <td>Iris-setosa</td>\n",
              "    </tr>\n",
              "    <tr>\n",
              "      <th>6</th>\n",
              "      <td>7</td>\n",
              "      <td>4.6</td>\n",
              "      <td>3.4</td>\n",
              "      <td>1.4</td>\n",
              "      <td>0.3</td>\n",
              "      <td>Iris-setosa</td>\n",
              "    </tr>\n",
              "    <tr>\n",
              "      <th>7</th>\n",
              "      <td>8</td>\n",
              "      <td>5.0</td>\n",
              "      <td>3.4</td>\n",
              "      <td>1.5</td>\n",
              "      <td>0.2</td>\n",
              "      <td>Iris-setosa</td>\n",
              "    </tr>\n",
              "    <tr>\n",
              "      <th>8</th>\n",
              "      <td>9</td>\n",
              "      <td>4.4</td>\n",
              "      <td>2.9</td>\n",
              "      <td>1.4</td>\n",
              "      <td>0.2</td>\n",
              "      <td>Iris-setosa</td>\n",
              "    </tr>\n",
              "    <tr>\n",
              "      <th>9</th>\n",
              "      <td>10</td>\n",
              "      <td>4.9</td>\n",
              "      <td>3.1</td>\n",
              "      <td>1.5</td>\n",
              "      <td>0.1</td>\n",
              "      <td>Iris-setosa</td>\n",
              "    </tr>\n",
              "    <tr>\n",
              "      <th>10</th>\n",
              "      <td>11</td>\n",
              "      <td>5.4</td>\n",
              "      <td>3.7</td>\n",
              "      <td>1.5</td>\n",
              "      <td>0.2</td>\n",
              "      <td>Iris-setosa</td>\n",
              "    </tr>\n",
              "    <tr>\n",
              "      <th>11</th>\n",
              "      <td>12</td>\n",
              "      <td>4.8</td>\n",
              "      <td>3.4</td>\n",
              "      <td>1.6</td>\n",
              "      <td>0.2</td>\n",
              "      <td>Iris-setosa</td>\n",
              "    </tr>\n",
              "    <tr>\n",
              "      <th>12</th>\n",
              "      <td>13</td>\n",
              "      <td>4.8</td>\n",
              "      <td>3.0</td>\n",
              "      <td>1.4</td>\n",
              "      <td>0.1</td>\n",
              "      <td>Iris-setosa</td>\n",
              "    </tr>\n",
              "    <tr>\n",
              "      <th>13</th>\n",
              "      <td>14</td>\n",
              "      <td>4.3</td>\n",
              "      <td>3.0</td>\n",
              "      <td>1.1</td>\n",
              "      <td>0.1</td>\n",
              "      <td>Iris-setosa</td>\n",
              "    </tr>\n",
              "    <tr>\n",
              "      <th>14</th>\n",
              "      <td>15</td>\n",
              "      <td>5.8</td>\n",
              "      <td>4.0</td>\n",
              "      <td>1.2</td>\n",
              "      <td>0.2</td>\n",
              "      <td>Iris-setosa</td>\n",
              "    </tr>\n",
              "  </tbody>\n",
              "</table>\n",
              "</div>"
            ],
            "text/plain": [
              "    Id  SepalLengthCm  SepalWidthCm  PetalLengthCm  PetalWidthCm      Species\n",
              "0    1            5.1           3.5            1.4           0.2  Iris-setosa\n",
              "1    2            4.9           3.0            1.4           0.2  Iris-setosa\n",
              "2    3            4.7           3.2            1.3           0.2  Iris-setosa\n",
              "3    4            4.6           3.1            1.5           0.2  Iris-setosa\n",
              "4    5            5.0           3.6            1.4           0.2  Iris-setosa\n",
              "5    6            5.4           3.9            1.7           0.4  Iris-setosa\n",
              "6    7            4.6           3.4            1.4           0.3  Iris-setosa\n",
              "7    8            5.0           3.4            1.5           0.2  Iris-setosa\n",
              "8    9            4.4           2.9            1.4           0.2  Iris-setosa\n",
              "9   10            4.9           3.1            1.5           0.1  Iris-setosa\n",
              "10  11            5.4           3.7            1.5           0.2  Iris-setosa\n",
              "11  12            4.8           3.4            1.6           0.2  Iris-setosa\n",
              "12  13            4.8           3.0            1.4           0.1  Iris-setosa\n",
              "13  14            4.3           3.0            1.1           0.1  Iris-setosa\n",
              "14  15            5.8           4.0            1.2           0.2  Iris-setosa"
            ]
          },
          "metadata": {
            "tags": []
          },
          "execution_count": 4
        }
      ]
    },
    {
      "cell_type": "code",
      "metadata": {
        "colab": {
          "base_uri": "https://localhost:8080/",
          "height": 297
        },
        "id": "ahbHeYtgcgYt",
        "outputId": "6afc2864-8bb1-48f8-b6ea-94f8167285aa"
      },
      "source": [
        "data.describe()"
      ],
      "execution_count": 3,
      "outputs": [
        {
          "output_type": "execute_result",
          "data": {
            "text/html": [
              "<div>\n",
              "<style scoped>\n",
              "    .dataframe tbody tr th:only-of-type {\n",
              "        vertical-align: middle;\n",
              "    }\n",
              "\n",
              "    .dataframe tbody tr th {\n",
              "        vertical-align: top;\n",
              "    }\n",
              "\n",
              "    .dataframe thead th {\n",
              "        text-align: right;\n",
              "    }\n",
              "</style>\n",
              "<table border=\"1\" class=\"dataframe\">\n",
              "  <thead>\n",
              "    <tr style=\"text-align: right;\">\n",
              "      <th></th>\n",
              "      <th>Id</th>\n",
              "      <th>SepalLengthCm</th>\n",
              "      <th>SepalWidthCm</th>\n",
              "      <th>PetalLengthCm</th>\n",
              "      <th>PetalWidthCm</th>\n",
              "    </tr>\n",
              "  </thead>\n",
              "  <tbody>\n",
              "    <tr>\n",
              "      <th>count</th>\n",
              "      <td>150.000000</td>\n",
              "      <td>150.000000</td>\n",
              "      <td>150.000000</td>\n",
              "      <td>150.000000</td>\n",
              "      <td>150.000000</td>\n",
              "    </tr>\n",
              "    <tr>\n",
              "      <th>mean</th>\n",
              "      <td>75.500000</td>\n",
              "      <td>5.843333</td>\n",
              "      <td>3.054000</td>\n",
              "      <td>3.758667</td>\n",
              "      <td>1.198667</td>\n",
              "    </tr>\n",
              "    <tr>\n",
              "      <th>std</th>\n",
              "      <td>43.445368</td>\n",
              "      <td>0.828066</td>\n",
              "      <td>0.433594</td>\n",
              "      <td>1.764420</td>\n",
              "      <td>0.763161</td>\n",
              "    </tr>\n",
              "    <tr>\n",
              "      <th>min</th>\n",
              "      <td>1.000000</td>\n",
              "      <td>4.300000</td>\n",
              "      <td>2.000000</td>\n",
              "      <td>1.000000</td>\n",
              "      <td>0.100000</td>\n",
              "    </tr>\n",
              "    <tr>\n",
              "      <th>25%</th>\n",
              "      <td>38.250000</td>\n",
              "      <td>5.100000</td>\n",
              "      <td>2.800000</td>\n",
              "      <td>1.600000</td>\n",
              "      <td>0.300000</td>\n",
              "    </tr>\n",
              "    <tr>\n",
              "      <th>50%</th>\n",
              "      <td>75.500000</td>\n",
              "      <td>5.800000</td>\n",
              "      <td>3.000000</td>\n",
              "      <td>4.350000</td>\n",
              "      <td>1.300000</td>\n",
              "    </tr>\n",
              "    <tr>\n",
              "      <th>75%</th>\n",
              "      <td>112.750000</td>\n",
              "      <td>6.400000</td>\n",
              "      <td>3.300000</td>\n",
              "      <td>5.100000</td>\n",
              "      <td>1.800000</td>\n",
              "    </tr>\n",
              "    <tr>\n",
              "      <th>max</th>\n",
              "      <td>150.000000</td>\n",
              "      <td>7.900000</td>\n",
              "      <td>4.400000</td>\n",
              "      <td>6.900000</td>\n",
              "      <td>2.500000</td>\n",
              "    </tr>\n",
              "  </tbody>\n",
              "</table>\n",
              "</div>"
            ],
            "text/plain": [
              "               Id  SepalLengthCm  SepalWidthCm  PetalLengthCm  PetalWidthCm\n",
              "count  150.000000     150.000000    150.000000     150.000000    150.000000\n",
              "mean    75.500000       5.843333      3.054000       3.758667      1.198667\n",
              "std     43.445368       0.828066      0.433594       1.764420      0.763161\n",
              "min      1.000000       4.300000      2.000000       1.000000      0.100000\n",
              "25%     38.250000       5.100000      2.800000       1.600000      0.300000\n",
              "50%     75.500000       5.800000      3.000000       4.350000      1.300000\n",
              "75%    112.750000       6.400000      3.300000       5.100000      1.800000\n",
              "max    150.000000       7.900000      4.400000       6.900000      2.500000"
            ]
          },
          "metadata": {
            "tags": []
          },
          "execution_count": 3
        }
      ]
    },
    {
      "cell_type": "code",
      "metadata": {
        "colab": {
          "base_uri": "https://localhost:8080/"
        },
        "id": "5_VIvu9Kc7oY",
        "outputId": "cf48c229-353a-4bbc-dc3a-518df5b24e9b"
      },
      "source": [
        "data = np.array(data)\n",
        "m, n = data.shape\n",
        "np.random.shuffle(data)\n",
        "print(f'Dataset has {m} rows and {n} columns')"
      ],
      "execution_count": 25,
      "outputs": [
        {
          "output_type": "stream",
          "text": [
            "Dataset has 150 rows and 6 columns\n"
          ],
          "name": "stdout"
        }
      ]
    },
    {
      "cell_type": "code",
      "metadata": {
        "id": "BCtXJSvFd1zw"
      },
      "source": [
        "data_train = data[0:100].T\n",
        "Y_train = data_train[-1]\n",
        "X_train = data_train[1:n-1]"
      ],
      "execution_count": 8,
      "outputs": []
    },
    {
      "cell_type": "code",
      "metadata": {
        "id": "2V5A7LrWeSwt"
      },
      "source": [
        "# Output labels: Iris-setosa = 0, Iris-versicolor = 1, Iris-virginica = 2\n",
        "for i in range(Y_train.size):\n",
        "  if Y_train[i-1] == 'Iris-setosa':\n",
        "    Y_train[i-1] = 0\n",
        "  elif Y_train[i-1] == 'Iris-versicolor':\n",
        "    Y_train[i-1] = 1\n",
        "  else:\n",
        "    Y_train[i-1] = 2\n",
        "\n",
        "Y_train = Y_train.astype(int)"
      ],
      "execution_count": 23,
      "outputs": []
    },
    {
      "cell_type": "code",
      "metadata": {
        "id": "OimTtBmfgZiq"
      },
      "source": [
        "m_train, n_train = X_train.shape\n",
        "for i in range(m_train):\n",
        "  X_train[i-1,:] = X_train[i-1,:] / X_train[i-1,:].max()"
      ],
      "execution_count": 17,
      "outputs": []
    },
    {
      "cell_type": "code",
      "metadata": {
        "id": "j0OXNyKWhBv6"
      },
      "source": [
        "data_test = data[100:m].T\n",
        "Y_test = data_test[-1]\n",
        "X_test = data_test[1:n-1]"
      ],
      "execution_count": 20,
      "outputs": []
    },
    {
      "cell_type": "code",
      "metadata": {
        "id": "vxDjeY7nhd4C"
      },
      "source": [
        "# Output labels: Iris-setosa = 0, Iris-versicolor = 1, Iris-virginica = 2\n",
        "for i in range(Y_test.size):\n",
        "  if Y_test[i-1] == 'Iris-setosa':\n",
        "    Y_test[i-1] = 0\n",
        "  elif Y_test[i-1] == 'Iris-versicolor':\n",
        "    Y_test[i-1] = 1\n",
        "  else:\n",
        "    Y_test[i-1] = 2\n",
        "\n",
        "Y_test = Y_test.astype(int)"
      ],
      "execution_count": 24,
      "outputs": []
    },
    {
      "cell_type": "code",
      "metadata": {
        "id": "hi9Mar4JiAO-"
      },
      "source": [
        "m_test, n_test = X_test.shape\n",
        "for i in range(m_test):\n",
        "  X_test[i-1,:] = X_test[i-1,:] / X_test[i-1,:].max()"
      ],
      "execution_count": 26,
      "outputs": []
    },
    {
      "cell_type": "code",
      "metadata": {
        "id": "iIVs8nl4iVxj"
      },
      "source": [
        "def init_params():\n",
        "    W1 = np.random.rand(10, n-2) - 0.5\n",
        "    b1 = np.random.rand(10, 1) - 0.5\n",
        "    W2 = np.random.rand(3, 10) - 0.5\n",
        "    b2 = np.random.rand(3, 1) - 0.5\n",
        "    \n",
        "    k0 = np.random.rand(1,1)\n",
        "    k1 = np.random.rand(1,1)\n",
        "    return W1, b1, W2, b2, k0, k1\n",
        "\n",
        "# Activation function for hidden layer\n",
        "def activation_fn(Z, k0, k1): \n",
        "    return k0 + k1*Z\n",
        "\n",
        "# Derivative of activation function for hidden layer\n",
        "def activation_fn_deriv(Z, k0, k1):\n",
        "    return k1\n",
        "\n",
        "# Activation function for output layer\n",
        "def softmax(Z): \n",
        "    A = np.exp(Z) / sum(np.exp(Z))\n",
        "    return A\n",
        "\n",
        "def one_hot(Y):\n",
        "    one_hot_Y = np.zeros((Y.size, int(Y.max()) + 1))\n",
        "    one_hot_Y[np.arange(Y.size), Y] = 1\n",
        "    one_hot_Y = one_hot_Y.T\n",
        "    return one_hot_Y\n",
        "    \n",
        "def forward_prop(W1, b1, W2, b2, k0, k1, X):\n",
        "    Z1 = W1.dot(X) + b1\n",
        "    A1 = activation_fn(Z1, k0, k1)\n",
        "    Z2 = W2.dot(A1) + b2\n",
        "    A2 = softmax(Z2.astype(float))\n",
        "    return Z1, A1, Z2, A2\n",
        "\n",
        "def backward_prop(Z1, A1, Z2, A2, W1, W2, k0, k1, X, Y):\n",
        "    one_hot_Y = one_hot(Y)\n",
        "    dZ2 = A2 - one_hot_Y\n",
        "\n",
        "    dW2 = 1 / m * dZ2.dot(A1.T)\n",
        "    db2 = 1 / m * np.sum(dZ2)\n",
        "    dZ1 = W2.T.dot(dZ2) * activation_fn_deriv(Z1, k0, k1)\n",
        "    dW1 = 1 / m * dZ1.dot(X.T)\n",
        "    db1 = 1 / m * np.sum(dZ1)\n",
        "    \n",
        "    da1 = W2.T.dot(dZ2)\n",
        "    dk0 = 1 / m * np.sum(da1)\n",
        "    temp = np.multiply(da1,Z1)\n",
        "    dk1 = np.mean(temp)\n",
        "    return dW1, db1, dW2, db2, dk0, dk1\n",
        "\n",
        "def update_params(W1, b1, W2, b2, dW1, db1, dW2, db2, k0, k1, dk0, dk1, alpha):\n",
        "    W1 = W1 - alpha * dW1\n",
        "    b1 = b1 - alpha * db1    \n",
        "    W2 = W2 - alpha * dW2  \n",
        "    b2 = b2 - alpha * db2\n",
        "    k0 = k0 - alpha * dk0\n",
        "    k1 = k1 - alpha * dk1\n",
        "    return W1, b1, W2, b2, k0, k1"
      ],
      "execution_count": 41,
      "outputs": []
    },
    {
      "cell_type": "code",
      "metadata": {
        "id": "SmqXlUghiXZB"
      },
      "source": [
        "def get_predictions(A2):\n",
        "    return np.argmax(A2, 0)\n",
        "\n",
        "def get_accuracy(predictions, Y):\n",
        "    #print(predictions, Y)\n",
        "    return np.sum(predictions == Y) / Y.size"
      ],
      "execution_count": 42,
      "outputs": []
    },
    {
      "cell_type": "code",
      "metadata": {
        "id": "eoKJmxL_iarv"
      },
      "source": [
        "def cross_entropy(Y, A2, p):\n",
        "    row, col = np.shape(A2)\n",
        "    loss_CE = list()\n",
        "    for i in range(col):\n",
        "        pos = np.where(p[:,col-1]==1)\n",
        "        loss = - p[pos,col-1]*np.log(softmax(A2[:,col-1])[pos])\n",
        "        loss_CE.append(loss)\n",
        "    return np.mean(loss_CE)\n",
        "\n",
        "def gradient_descent(X, Y, X_test, Y_test, alpha, iterations):\n",
        "    W1, b1, W2, b2, k0, k1 = init_params()\n",
        "    k0_list = list()\n",
        "    k1_list = list()\n",
        "    loss_entropy_train = list()\n",
        "    loss_entropy_test = list()\n",
        "    epochs = list()\n",
        "    \n",
        "    for i in range(iterations):\n",
        "        Z1, A1, Z2, A2 = forward_prop(W1, b1, W2, b2, k0, k1, X)\n",
        "        dW1, db1, dW2, db2, dk0, dk1 = backward_prop(Z1, A1, Z2, A2, W1, W2, k0, k1, X, Y)\n",
        "        W1, b1, W2, b2, k0, k1 = update_params(W1, b1, W2, b2, dW1, db1, dW2, db2, k0, k1, dk0, dk1, alpha)\n",
        "        \n",
        "        epochs.append(i)\n",
        "        k0_list.append(k0)\n",
        "        k1_list.append(k1)\n",
        "        \n",
        "        true_label = one_hot(Y)\n",
        "        loss_entropy_train.append(cross_entropy(Y, A2, true_label))\n",
        "        \n",
        "        Z1_test, A1_test, Z2_test, A2_test = forward_prop(W1, b1, W2, b2, k0, k1, X_test)\n",
        "        true_label_test = one_hot(Y_test)\n",
        "        loss_entropy_test.append(cross_entropy(Y_test, A2_test, true_label_test))\n",
        "        \n",
        "        if i % 10 == 0:            \n",
        "            print(\"Iteration: \", i)\n",
        "            predictions = get_predictions(A2)\n",
        "            print(get_accuracy(predictions, Y))\n",
        "            print(\"Loss (train): {:.3g} nats\".format(loss_entropy_train[i-1]))\n",
        "            print(\"Loss (test): {:.3g} nats\".format(loss_entropy_test[i-1]))\n",
        "    return W1, b1, W2, b2, k0, k1, k0_list, k1_list, epochs, loss_entropy_train, loss_entropy_test"
      ],
      "execution_count": 43,
      "outputs": []
    },
    {
      "cell_type": "code",
      "metadata": {
        "colab": {
          "base_uri": "https://localhost:8080/"
        },
        "id": "bzvkMT3PieH4",
        "outputId": "5a322304-bc46-4760-9b2f-04f272667986"
      },
      "source": [
        "W1, b1, W2, b2, k0, k1, k0_list, k1_list, epochs, loss_entropy_train, loss_entropy_test = gradient_descent(X_train, Y_train, X_test, Y_test, 0.10, 50) # Learning rate alpha = 0.1, total epochs = 50"
      ],
      "execution_count": 49,
      "outputs": [
        {
          "output_type": "stream",
          "text": [
            "Iteration:  0\n",
            "1.0\n",
            "Loss (train): 1.02 nats\n",
            "Loss (test): 0.952 nats\n",
            "Iteration:  10\n",
            "1.0\n",
            "Loss (train): 0.621 nats\n",
            "Loss (test): 0.605 nats\n",
            "Iteration:  20\n",
            "1.0\n",
            "Loss (train): 0.574 nats\n",
            "Loss (test): 0.569 nats\n",
            "Iteration:  30\n",
            "1.0\n",
            "Loss (train): 0.564 nats\n",
            "Loss (test): 0.561 nats\n",
            "Iteration:  40\n",
            "1.0\n",
            "Loss (train): 0.559 nats\n",
            "Loss (test): 0.558 nats\n"
          ],
          "name": "stdout"
        }
      ]
    },
    {
      "cell_type": "code",
      "metadata": {
        "colab": {
          "base_uri": "https://localhost:8080/"
        },
        "id": "cLyKDIT0oCn_",
        "outputId": "69d40356-ac28-4ff9-924e-f1ecbd2c3e1b"
      },
      "source": [
        "print(f'The final values of parameters: k_0 = {k0}, k_1 = {k1}')"
      ],
      "execution_count": 50,
      "outputs": [
        {
          "output_type": "stream",
          "text": [
            "The final values of parameters: k_0 = [[0.96655268]], k_1 = [[0.44029915]]\n"
          ],
          "name": "stdout"
        }
      ]
    },
    {
      "cell_type": "code",
      "metadata": {
        "id": "nWGzxbODoEaT"
      },
      "source": [
        "def make_predictions(X, W1, b1, W2, b2, k0, k1):\n",
        "    _, _, _, A2 = forward_prop(W1, b1, W2, b2, k0, k1, X)\n",
        "    predictions = get_predictions(A2)\n",
        "    return predictions"
      ],
      "execution_count": 51,
      "outputs": []
    },
    {
      "cell_type": "code",
      "metadata": {
        "colab": {
          "base_uri": "https://localhost:8080/"
        },
        "id": "zYtzRCueoG9V",
        "outputId": "cc91323d-4bc6-43c4-f020-0813d2ff5a9b"
      },
      "source": [
        "# Train data accuracy\n",
        "train_data_predictions = make_predictions(X_train, W1, b1, W2, b2, k0, k1)\n",
        "get_accuracy(train_data_predictions, Y_train)"
      ],
      "execution_count": 52,
      "outputs": [
        {
          "output_type": "execute_result",
          "data": {
            "text/plain": [
              "1.0"
            ]
          },
          "metadata": {
            "tags": []
          },
          "execution_count": 52
        }
      ]
    },
    {
      "cell_type": "code",
      "metadata": {
        "colab": {
          "base_uri": "https://localhost:8080/"
        },
        "id": "ob0DRPJwoJ38",
        "outputId": "d6aaa6a3-6be2-4f5e-f110-1f0f526487af"
      },
      "source": [
        "# Test data accuracy\n",
        "test_data_predictions = make_predictions(X_test, W1, b1, W2, b2, k0, k1)\n",
        "get_accuracy(test_data_predictions, Y_test)"
      ],
      "execution_count": 53,
      "outputs": [
        {
          "output_type": "execute_result",
          "data": {
            "text/plain": [
              "1.0"
            ]
          },
          "metadata": {
            "tags": []
          },
          "execution_count": 53
        }
      ]
    },
    {
      "cell_type": "code",
      "metadata": {
        "colab": {
          "base_uri": "https://localhost:8080/",
          "height": 313
        },
        "id": "ddBXROBDoMq7",
        "outputId": "53c83b30-c772-4e8a-fb58-044404af69e5"
      },
      "source": [
        "fig, axs = plt.subplots(2,2,constrained_layout=True)\n",
        "axs[0,0].plot(epochs, np.squeeze(k0_list))\n",
        "axs[0,0].set(xlabel = 'Epochs', ylabel = 'k_0')\n",
        "axs[0,1].plot(epochs, np.squeeze(k1_list))\n",
        "axs[0,1].set(xlabel = 'Epochs', ylabel = 'k_1')\n",
        "axs[1,0].plot(epochs,loss_entropy_train,'-b',label = 'Train')\n",
        "axs[1,0].plot(epochs,loss_entropy_test,'-r',label = 'Test')\n",
        "axs[1,0].legend()\n",
        "axs[1,0].set(xlabel = 'Epochs', ylabel = 'Cross entropy loss')\n",
        "axs[1,1].plot(loss_entropy_train,loss_entropy_test)\n",
        "axs[1,1].set(xlabel = 'Cross entropy loss (train)', ylabel = 'Cross entropy loss (test)')\n",
        "\n",
        "from google.colab import files\n",
        "plt.savefig('iris.jpg')\n",
        "files.download('iris.jpg')"
      ],
      "execution_count": 54,
      "outputs": [
        {
          "output_type": "display_data",
          "data": {
            "application/javascript": [
              "\n",
              "    async function download(id, filename, size) {\n",
              "      if (!google.colab.kernel.accessAllowed) {\n",
              "        return;\n",
              "      }\n",
              "      const div = document.createElement('div');\n",
              "      const label = document.createElement('label');\n",
              "      label.textContent = `Downloading \"${filename}\": `;\n",
              "      div.appendChild(label);\n",
              "      const progress = document.createElement('progress');\n",
              "      progress.max = size;\n",
              "      div.appendChild(progress);\n",
              "      document.body.appendChild(div);\n",
              "\n",
              "      const buffers = [];\n",
              "      let downloaded = 0;\n",
              "\n",
              "      const channel = await google.colab.kernel.comms.open(id);\n",
              "      // Send a message to notify the kernel that we're ready.\n",
              "      channel.send({})\n",
              "\n",
              "      for await (const message of channel.messages) {\n",
              "        // Send a message to notify the kernel that we're ready.\n",
              "        channel.send({})\n",
              "        if (message.buffers) {\n",
              "          for (const buffer of message.buffers) {\n",
              "            buffers.push(buffer);\n",
              "            downloaded += buffer.byteLength;\n",
              "            progress.value = downloaded;\n",
              "          }\n",
              "        }\n",
              "      }\n",
              "      const blob = new Blob(buffers, {type: 'application/binary'});\n",
              "      const a = document.createElement('a');\n",
              "      a.href = window.URL.createObjectURL(blob);\n",
              "      a.download = filename;\n",
              "      div.appendChild(a);\n",
              "      a.click();\n",
              "      div.remove();\n",
              "    }\n",
              "  "
            ],
            "text/plain": [
              "<IPython.core.display.Javascript object>"
            ]
          },
          "metadata": {
            "tags": []
          }
        },
        {
          "output_type": "display_data",
          "data": {
            "application/javascript": [
              "download(\"download_c09f7bcb-ba5a-4a5c-ab82-2919e52b53b3\", \"iris.jpg\", 31875)"
            ],
            "text/plain": [
              "<IPython.core.display.Javascript object>"
            ]
          },
          "metadata": {
            "tags": []
          }
        },
        {
          "output_type": "display_data",
          "data": {
            "image/png": "[encoded data removed]",
            "text/plain": [
              "<Figure size 432x288 with 4 Axes>"
            ]
          },
          "metadata": {
            "tags": [],
            "needs_background": "light"
          }
        }
      ]
    },
    {
      "cell_type": "code",
      "metadata": {
        "colab": {
          "base_uri": "https://localhost:8080/"
        },
        "id": "w-zOpx8uoW5g",
        "outputId": "b6db613c-d6f1-4911-a09f-1533e2f021c9"
      },
      "source": [
        "from sklearn.metrics import f1_score\n",
        "f1 = f1_score(Y_test, test_data_predictions,average = 'weighted')\n",
        "print(f'F1-Score is: {f1}')"
      ],
      "execution_count": 55,
      "outputs": [
        {
          "output_type": "stream",
          "text": [
            "F1-Score is: 1.0\n"
          ],
          "name": "stdout"
        }
      ]
    }
  ]
}
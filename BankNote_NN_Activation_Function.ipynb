{
  "nbformat": 4,
  "nbformat_minor": 0,
  "metadata": {
    "colab": {
      "name": "BankNote NN Activation Function.ipynb",
      "provenance": [],
      "collapsed_sections": []
    },
    "kernelspec": {
      "name": "python3",
      "display_name": "Python 3"
    },
    "language_info": {
      "name": "python"
    }
  },
  "cells": [
    {
      "cell_type": "code",
      "metadata": {
        "id": "C36WA2b4EUhD"
      },
      "source": [
        "import numpy as np\n",
        "import pandas as pd\n",
        "from matplotlib import pyplot as plt\n",
        "\n",
        "data = pd.read_csv('BankNote_Authentication.csv') "
      ],
      "execution_count": null,
      "outputs": []
    },
    {
      "cell_type": "code",
      "metadata": {
        "colab": {
          "base_uri": "https://localhost:8080/",
          "height": 204
        },
        "id": "iHvxHIfVEwGz",
        "outputId": "bc9ee221-e6fa-42ff-8d92-454177f11a7b"
      },
      "source": [
        "data.head()\n",
        "# data.describe()"
      ],
      "execution_count": null,
      "outputs": [
        {
          "output_type": "execute_result",
          "data": {
            "text/html": [
              "<div>\n",
              "<style scoped>\n",
              "    .dataframe tbody tr th:only-of-type {\n",
              "        vertical-align: middle;\n",
              "    }\n",
              "\n",
              "    .dataframe tbody tr th {\n",
              "        vertical-align: top;\n",
              "    }\n",
              "\n",
              "    .dataframe thead th {\n",
              "        text-align: right;\n",
              "    }\n",
              "</style>\n",
              "<table border=\"1\" class=\"dataframe\">\n",
              "  <thead>\n",
              "    <tr style=\"text-align: right;\">\n",
              "      <th></th>\n",
              "      <th>variance</th>\n",
              "      <th>skewness</th>\n",
              "      <th>curtosis</th>\n",
              "      <th>entropy</th>\n",
              "      <th>class</th>\n",
              "    </tr>\n",
              "  </thead>\n",
              "  <tbody>\n",
              "    <tr>\n",
              "      <th>0</th>\n",
              "      <td>3.62160</td>\n",
              "      <td>8.6661</td>\n",
              "      <td>-2.8073</td>\n",
              "      <td>-0.44699</td>\n",
              "      <td>0</td>\n",
              "    </tr>\n",
              "    <tr>\n",
              "      <th>1</th>\n",
              "      <td>4.54590</td>\n",
              "      <td>8.1674</td>\n",
              "      <td>-2.4586</td>\n",
              "      <td>-1.46210</td>\n",
              "      <td>0</td>\n",
              "    </tr>\n",
              "    <tr>\n",
              "      <th>2</th>\n",
              "      <td>3.86600</td>\n",
              "      <td>-2.6383</td>\n",
              "      <td>1.9242</td>\n",
              "      <td>0.10645</td>\n",
              "      <td>0</td>\n",
              "    </tr>\n",
              "    <tr>\n",
              "      <th>3</th>\n",
              "      <td>3.45660</td>\n",
              "      <td>9.5228</td>\n",
              "      <td>-4.0112</td>\n",
              "      <td>-3.59440</td>\n",
              "      <td>0</td>\n",
              "    </tr>\n",
              "    <tr>\n",
              "      <th>4</th>\n",
              "      <td>0.32924</td>\n",
              "      <td>-4.4552</td>\n",
              "      <td>4.5718</td>\n",
              "      <td>-0.98880</td>\n",
              "      <td>0</td>\n",
              "    </tr>\n",
              "  </tbody>\n",
              "</table>\n",
              "</div>"
            ],
            "text/plain": [
              "   variance  skewness  curtosis  entropy  class\n",
              "0   3.62160    8.6661   -2.8073 -0.44699      0\n",
              "1   4.54590    8.1674   -2.4586 -1.46210      0\n",
              "2   3.86600   -2.6383    1.9242  0.10645      0\n",
              "3   3.45660    9.5228   -4.0112 -3.59440      0\n",
              "4   0.32924   -4.4552    4.5718 -0.98880      0"
            ]
          },
          "metadata": {
            "tags": []
          },
          "execution_count": 6
        }
      ]
    },
    {
      "cell_type": "code",
      "metadata": {
        "colab": {
          "base_uri": "https://localhost:8080/"
        },
        "id": "6qMLO28UFXzD",
        "outputId": "26af972a-ed22-455f-ee2f-be12ef0386ca"
      },
      "source": [
        "data = np.array(data)\n",
        "m, n = data.shape\n",
        "print(f'Dataset has {m} rows and {n} columns')\n",
        "np.random.shuffle(data)\n",
        "\n",
        "data_train = data[0:1000].T\n",
        "Y_train = data_train[-1].astype(int)\n",
        "X_train = data_train[0:n-1]"
      ],
      "execution_count": null,
      "outputs": [
        {
          "output_type": "stream",
          "text": [
            "Dataset has 1372 rows and 5 columns\n"
          ],
          "name": "stdout"
        }
      ]
    },
    {
      "cell_type": "code",
      "metadata": {
        "id": "ex0J_xYYJU5-"
      },
      "source": [
        "m_train, n_train = X_train.shape\n",
        "for i in range(m_train):\n",
        "  X_train[i-1,:] = X_train[i-1,:] / (np.abs(X_train[i-1,:]).max())\n"
      ],
      "execution_count": null,
      "outputs": []
    },
    {
      "cell_type": "code",
      "metadata": {
        "id": "detlolPaLUm2"
      },
      "source": [
        "data_test = data[1000:m].T\n",
        "Y_test = data_test[-1].astype(int)\n",
        "X_test = data_test[0:n-1]\n",
        "\n",
        "m_test, n_test = X_test.shape\n",
        "for i in range(m_test):\n",
        "  X_test[i-1,:] = X_test[i-1,:] / (np.abs(X_test[i-1,:]).max())"
      ],
      "execution_count": null,
      "outputs": []
    },
    {
      "cell_type": "code",
      "metadata": {
        "id": "6Gv7WsoxOBym"
      },
      "source": [
        "def init_params():\n",
        "    W1 = np.random.rand(10, n-1) - 0.5\n",
        "    b1 = np.random.rand(10, 1) - 0.5\n",
        "    W2 = np.random.rand(2, 10) - 0.5\n",
        "    b2 = np.random.rand(2, 1) - 0.5\n",
        "    \n",
        "    k0 = np.random.rand(1,1)\n",
        "    k1 = np.random.rand(1,1)\n",
        "    return W1, b1, W2, b2, k0, k1\n",
        "\n",
        "# Activation function for hidden layer\n",
        "def activation_fn(Z, k0, k1): \n",
        "    return k0 + k1*Z\n",
        "\n",
        "# Derivative of activation function for hidden layer\n",
        "def activation_fn_deriv(Z, k0, k1):\n",
        "    return k1\n",
        "\n",
        "# Activation function for output layer\n",
        "def softmax(Z): \n",
        "    A = np.exp(Z) / sum(np.exp(Z))\n",
        "    return A\n",
        "\n",
        "def one_hot(Y):\n",
        "    one_hot_Y = np.zeros((Y.size, int(Y.max()) + 1))\n",
        "    one_hot_Y[np.arange(Y.size), Y] = 1\n",
        "    one_hot_Y = one_hot_Y.T\n",
        "    return one_hot_Y\n",
        "    \n",
        "def forward_prop(W1, b1, W2, b2, k0, k1, X):\n",
        "    Z1 = W1.dot(X) + b1\n",
        "    A1 = activation_fn(Z1, k0, k1)\n",
        "    Z2 = W2.dot(A1) + b2\n",
        "    A2 = softmax(Z2)\n",
        "    return Z1, A1, Z2, A2\n",
        "\n",
        "def backward_prop(Z1, A1, Z2, A2, W1, W2, k0, k1, X, Y):\n",
        "    one_hot_Y = one_hot(Y)\n",
        "    dZ2 = A2 - one_hot_Y\n",
        "\n",
        "    dW2 = 1 / m * dZ2.dot(A1.T)\n",
        "    db2 = 1 / m * np.sum(dZ2)\n",
        "    dZ1 = W2.T.dot(dZ2) * activation_fn_deriv(Z1, k0, k1)\n",
        "    dW1 = 1 / m * dZ1.dot(X.T)\n",
        "    db1 = 1 / m * np.sum(dZ1)\n",
        "    \n",
        "    da1 = W2.T.dot(dZ2)\n",
        "    dk0 = 1 / m * np.sum(da1)\n",
        "    temp = np.multiply(da1,Z1)\n",
        "    dk1 = np.mean(temp)\n",
        "    return dW1, db1, dW2, db2, dk0, dk1\n",
        "\n",
        "def update_params(W1, b1, W2, b2, dW1, db1, dW2, db2, k0, k1, dk0, dk1, alpha):\n",
        "    W1 = W1 - alpha * dW1\n",
        "    b1 = b1 - alpha * db1    \n",
        "    W2 = W2 - alpha * dW2  \n",
        "    b2 = b2 - alpha * db2\n",
        "    k0 = k0 - alpha * dk0\n",
        "    k1 = k1 - alpha * dk1\n",
        "    return W1, b1, W2, b2, k0, k1"
      ],
      "execution_count": null,
      "outputs": []
    },
    {
      "cell_type": "code",
      "metadata": {
        "id": "ragnYJDLODe4"
      },
      "source": [
        "def get_predictions(A2):\n",
        "    return np.argmax(A2, 0)\n",
        "\n",
        "def get_accuracy(predictions, Y):\n",
        "    #print(predictions, Y)\n",
        "    return np.sum(predictions == Y) / Y.size"
      ],
      "execution_count": null,
      "outputs": []
    },
    {
      "cell_type": "code",
      "metadata": {
        "id": "MmLpVjLjOSYC"
      },
      "source": [
        "def cross_entropy(Y, A2, p):\n",
        "    row, col = np.shape(A2)\n",
        "    loss_CE = list()\n",
        "    for i in range(col):\n",
        "        pos = np.where(p[:,col-1]==1)\n",
        "        loss = - p[pos,col-1]*np.log(softmax(A2[:,col-1])[pos])\n",
        "        loss_CE.append(loss)\n",
        "    return np.mean(loss_CE)\n",
        "\n",
        "def gradient_descent(X, Y, X_test, Y_test, alpha, iterations):\n",
        "    W1, b1, W2, b2, k0, k1 = init_params()\n",
        "    k0_list = list()\n",
        "    k1_list = list()\n",
        "    loss_entropy_train = list()\n",
        "    loss_entropy_test = list()\n",
        "    epochs = list()\n",
        "    \n",
        "    for i in range(iterations):\n",
        "        Z1, A1, Z2, A2 = forward_prop(W1, b1, W2, b2, k0, k1, X)\n",
        "        dW1, db1, dW2, db2, dk0, dk1 = backward_prop(Z1, A1, Z2, A2, W1, W2, k0, k1, X, Y)\n",
        "        W1, b1, W2, b2, k0, k1 = update_params(W1, b1, W2, b2, dW1, db1, dW2, db2, k0, k1, dk0, dk1, alpha)\n",
        "        \n",
        "        epochs.append(i)\n",
        "        k0_list.append(k0)\n",
        "        k1_list.append(k1)\n",
        "        \n",
        "        true_label = one_hot(Y)\n",
        "        loss_entropy_train.append(cross_entropy(Y, A2, true_label))\n",
        "        \n",
        "        Z1_test, A1_test, Z2_test, A2_test = forward_prop(W1, b1, W2, b2, k0, k1, X_test)\n",
        "        true_label_test = one_hot(Y_test)\n",
        "        loss_entropy_test.append(cross_entropy(Y_test, A2_test, true_label_test))\n",
        "        \n",
        "        if i % 100 == 0:            \n",
        "            print(\"Iteration: \", i)\n",
        "            predictions = get_predictions(A2)\n",
        "            print(get_accuracy(predictions, Y))\n",
        "            print(\"Loss (train): {:.3g} nats\".format(loss_entropy_train[i-1]))\n",
        "            print(\"Loss (test): {:.3g} nats\".format(loss_entropy_test[i-1]))\n",
        "    return W1, b1, W2, b2, k0, k1, k0_list, k1_list, epochs, loss_entropy_train, loss_entropy_test"
      ],
      "execution_count": null,
      "outputs": []
    },
    {
      "cell_type": "code",
      "metadata": {
        "colab": {
          "base_uri": "https://localhost:8080/"
        },
        "id": "jcbiXFNHOW_x",
        "outputId": "f6196cb5-3c57-4607-efa8-f4e6b92b140c"
      },
      "source": [
        "W1, b1, W2, b2, k0, k1, k0_list, k1_list, epochs, loss_entropy_train, loss_entropy_test = gradient_descent(X_train, Y_train, X_test, Y_test, 0.10, 1000) # Learning rate alpha = 0.1, total epochs = 1000"
      ],
      "execution_count": null,
      "outputs": [
        {
          "output_type": "stream",
          "text": [
            "Iteration:  0\n",
            "0.539\n",
            "Loss (train): 0.554 nats\n",
            "Loss (test): 0.873 nats\n",
            "Iteration:  100\n",
            "0.671\n",
            "Loss (train): 0.639 nats\n",
            "Loss (test): 0.709 nats\n",
            "Iteration:  200\n",
            "0.812\n",
            "Loss (train): 0.56 nats\n",
            "Loss (test): 0.66 nats\n",
            "Iteration:  300\n",
            "0.884\n",
            "Loss (train): 0.398 nats\n",
            "Loss (test): 0.535 nats\n",
            "Iteration:  400\n",
            "0.906\n",
            "Loss (train): 0.339 nats\n",
            "Loss (test): 0.44 nats\n",
            "Iteration:  500\n",
            "0.941\n",
            "Loss (train): 0.324 nats\n",
            "Loss (test): 0.389 nats\n",
            "Iteration:  600\n",
            "0.956\n",
            "Loss (train): 0.318 nats\n",
            "Loss (test): 0.36 nats\n",
            "Iteration:  700\n",
            "0.967\n",
            "Loss (train): 0.315 nats\n",
            "Loss (test): 0.343 nats\n",
            "Iteration:  800\n",
            "0.968\n",
            "Loss (train): 0.314 nats\n",
            "Loss (test): 0.333 nats\n",
            "Iteration:  900\n",
            "0.975\n",
            "Loss (train): 0.314 nats\n",
            "Loss (test): 0.327 nats\n"
          ],
          "name": "stdout"
        }
      ]
    },
    {
      "cell_type": "code",
      "metadata": {
        "colab": {
          "base_uri": "https://localhost:8080/"
        },
        "id": "JM9gdrlCUhM4",
        "outputId": "44a6a712-e9ff-47b0-9ad3-38a5df48b66c"
      },
      "source": [
        "print(f'The final values of parameters: k_0 = {k0}, k_1 = {k1}')"
      ],
      "execution_count": null,
      "outputs": [
        {
          "output_type": "stream",
          "text": [
            "The final values of parameters: k_0 = [[0.0441651]], k_1 = [[1.3334264]]\n"
          ],
          "name": "stdout"
        }
      ]
    },
    {
      "cell_type": "code",
      "metadata": {
        "id": "tBab3EyAUk5F"
      },
      "source": [
        "def make_predictions(X, W1, b1, W2, b2, k0, k1):\n",
        "    _, _, _, A2 = forward_prop(W1, b1, W2, b2, k0, k1, X)\n",
        "    predictions = get_predictions(A2)\n",
        "    return predictions"
      ],
      "execution_count": null,
      "outputs": []
    },
    {
      "cell_type": "code",
      "metadata": {
        "colab": {
          "base_uri": "https://localhost:8080/"
        },
        "id": "V_WJWeJuUnXM",
        "outputId": "f481889a-f044-4d9e-89bc-d9388db6d944"
      },
      "source": [
        "# Train data accuracy\n",
        "train_data_predictions = make_predictions(X_train, W1, b1, W2, b2, k0, k1)\n",
        "get_accuracy(train_data_predictions, Y_train)"
      ],
      "execution_count": null,
      "outputs": [
        {
          "output_type": "execute_result",
          "data": {
            "text/plain": [
              "0.981"
            ]
          },
          "metadata": {
            "tags": []
          },
          "execution_count": 93
        }
      ]
    },
    {
      "cell_type": "code",
      "metadata": {
        "colab": {
          "base_uri": "https://localhost:8080/"
        },
        "id": "TCPxr82NUp8b",
        "outputId": "bf039d22-51b6-468a-e736-a4923d79ea26"
      },
      "source": [
        "# Test data accuracy\n",
        "test_data_predictions = make_predictions(X_test, W1, b1, W2, b2, k0, k1)\n",
        "get_accuracy(test_data_predictions, Y_test)"
      ],
      "execution_count": null,
      "outputs": [
        {
          "output_type": "execute_result",
          "data": {
            "text/plain": [
              "0.989247311827957"
            ]
          },
          "metadata": {
            "tags": []
          },
          "execution_count": 94
        }
      ]
    },
    {
      "cell_type": "code",
      "metadata": {
        "colab": {
          "base_uri": "https://localhost:8080/",
          "height": 313
        },
        "id": "-SC39BVWUwXs",
        "outputId": "51ff370f-4be5-4b8c-f8ba-7f8092f3d0f0"
      },
      "source": [
        "fig, axs = plt.subplots(2,2,constrained_layout=True)\n",
        "axs[0,0].plot(epochs, np.squeeze(k0_list))\n",
        "axs[0,0].set(xlabel = 'Epochs', ylabel = 'k_0')\n",
        "axs[0,1].plot(epochs, np.squeeze(k1_list))\n",
        "axs[0,1].set(xlabel = 'Epochs', ylabel = 'k_1')\n",
        "axs[1,0].plot(epochs,loss_entropy_train,'-b',label = 'Train')\n",
        "axs[1,0].plot(epochs,loss_entropy_test,'-r',label = 'Test')\n",
        "axs[1,0].legend()\n",
        "axs[1,0].set(xlabel = 'Epochs', ylabel = 'Cross entropy loss')\n",
        "axs[1,1].plot(loss_entropy_train,loss_entropy_test)\n",
        "axs[1,1].set(xlabel = 'Cross entropy loss (train)', ylabel = 'Cross entropy loss (test)')\n",
        "\n",
        "from google.colab import files\n",
        "plt.savefig('banknote.jpg')\n",
        "files.download('banknote.jpg')"
      ],
      "execution_count": null,
      "outputs": [
        {
          "output_type": "display_data",
          "data": {
            "application/javascript": [
              "\n",
              "    async function download(id, filename, size) {\n",
              "      if (!google.colab.kernel.accessAllowed) {\n",
              "        return;\n",
              "      }\n",
              "      const div = document.createElement('div');\n",
              "      const label = document.createElement('label');\n",
              "      label.textContent = `Downloading \"${filename}\": `;\n",
              "      div.appendChild(label);\n",
              "      const progress = document.createElement('progress');\n",
              "      progress.max = size;\n",
              "      div.appendChild(progress);\n",
              "      document.body.appendChild(div);\n",
              "\n",
              "      const buffers = [];\n",
              "      let downloaded = 0;\n",
              "\n",
              "      const channel = await google.colab.kernel.comms.open(id);\n",
              "      // Send a message to notify the kernel that we're ready.\n",
              "      channel.send({})\n",
              "\n",
              "      for await (const message of channel.messages) {\n",
              "        // Send a message to notify the kernel that we're ready.\n",
              "        channel.send({})\n",
              "        if (message.buffers) {\n",
              "          for (const buffer of message.buffers) {\n",
              "            buffers.push(buffer);\n",
              "            downloaded += buffer.byteLength;\n",
              "            progress.value = downloaded;\n",
              "          }\n",
              "        }\n",
              "      }\n",
              "      const blob = new Blob(buffers, {type: 'application/binary'});\n",
              "      const a = document.createElement('a');\n",
              "      a.href = window.URL.createObjectURL(blob);\n",
              "      a.download = filename;\n",
              "      div.appendChild(a);\n",
              "      a.click();\n",
              "      div.remove();\n",
              "    }\n",
              "  "
            ],
            "text/plain": [
              "<IPython.core.display.Javascript object>"
            ]
          },
          "metadata": {
            "tags": []
          }
        },
        {
          "output_type": "display_data",
          "data": {
            "application/javascript": [
              "download(\"download_bad8125f-b668-4d40-bd4f-2cf5b7768bf3\", \"banknote.jpg\", 38221)"
            ],
            "text/plain": [
              "<IPython.core.display.Javascript object>"
            ]
          },
          "metadata": {
            "tags": []
          }
        },
        {
          "output_type": "display_data",
          "data": {
            "image/png": "[encoded data removed]",
            "text/plain": [
              "<Figure size 432x288 with 4 Axes>"
            ]
          },
          "metadata": {
            "tags": [],
            "needs_background": "light"
          }
        }
      ]
    },
    {
      "cell_type": "code",
      "metadata": {
        "colab": {
          "base_uri": "https://localhost:8080/"
        },
        "id": "zj-cL1WsaPec",
        "outputId": "46767467-96ef-498b-c352-ce0f5d72f5e0"
      },
      "source": [
        "from sklearn.metrics import f1_score\n",
        "f1 = f1_score(Y_test, test_data_predictions,average = 'weighted')\n",
        "print(f'F1-Score is: {f1}')"
      ],
      "execution_count": null,
      "outputs": [
        {
          "output_type": "stream",
          "text": [
            "F1-Score is: 0.9892589363557106\n"
          ],
          "name": "stdout"
        }
      ]
    }
  ]
}